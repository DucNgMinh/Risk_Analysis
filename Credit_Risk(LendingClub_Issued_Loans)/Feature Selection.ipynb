{
 "cells": [
  {
   "cell_type": "code",
   "execution_count": 25,
   "metadata": {
    "collapsed": true
   },
   "outputs": [],
   "source": [
    "import numpy as np\n",
    "import pandas as pd\n",
    "import matplotlib.pyplot as plt\n",
    "import seaborn as sns\n",
    "sns.set_theme()\n",
    "\n",
    "import warnings\n",
    "warnings.filterwarnings(\"ignore\")"
   ]
  },
  {
   "cell_type": "code",
   "execution_count": 26,
   "outputs": [
    {
     "data": {
      "text/plain": "(1345310, 31)"
     },
     "execution_count": 26,
     "metadata": {},
     "output_type": "execute_result"
    }
   ],
   "source": [
    "df = pd.read_csv('Trim_feature_Loan_2007_2018Q4.csv')\n",
    "df.shape"
   ],
   "metadata": {
    "collapsed": false
   }
  },
  {
   "cell_type": "code",
   "execution_count": 27,
   "outputs": [
    {
     "data": {
      "text/plain": "id                          0\nloan_status                 0\nloan_amnt                   0\nterm                        0\nint_rate                    0\ninstallment                 0\ngrade                       0\nsub_grade                   0\nissue_d                     0\npurpose                     0\ntitle                   16659\napplication_type            0\ninitial_list_status         0\nemp_title               85785\nemp_length              78511\nzip_code                    1\naddr_state                  0\nhome_ownership              0\nannual_inc                  0\nverification_status         0\ndti                       374\nearliest_cr_line            0\nopen_acc                    0\npub_rec                     0\nrevol_bal                   0\nrevol_util                857\ntotal_acc                   0\nmort_acc                47281\npub_rec_bankruptcies      697\nfico_range_high             0\nfico_range_low              0\ndtype: int64"
     },
     "execution_count": 27,
     "metadata": {},
     "output_type": "execute_result"
    }
   ],
   "source": [
    "df.isnull().sum()"
   ],
   "metadata": {
    "collapsed": false
   }
  },
  {
   "cell_type": "code",
   "execution_count": 28,
   "outputs": [],
   "source": [
    "df['emp_length'].fillna('< 1 year', inplace= True)\n",
    "df['dti'].fillna(0, inplace= True)\n",
    "df['revol_util'].fillna(0, inplace= True)\n",
    "df['mort_acc'].fillna(0, inplace= True)"
   ],
   "metadata": {
    "collapsed": false
   }
  },
  {
   "cell_type": "code",
   "execution_count": 29,
   "outputs": [
    {
     "data": {
      "text/plain": "id                          0\nloan_status                 0\nloan_amnt                   0\nterm                        0\nint_rate                    0\ninstallment                 0\ngrade                       0\nsub_grade                   0\nissue_d                     0\npurpose                     0\ntitle                   16659\napplication_type            0\ninitial_list_status         0\nemp_title               85785\nemp_length                  0\nzip_code                    1\naddr_state                  0\nhome_ownership              0\nannual_inc                  0\nverification_status         0\ndti                         0\nearliest_cr_line            0\nopen_acc                    0\npub_rec                     0\nrevol_bal                   0\nrevol_util                  0\ntotal_acc                   0\nmort_acc                    0\npub_rec_bankruptcies      697\nfico_range_high             0\nfico_range_low              0\ndtype: int64"
     },
     "execution_count": 29,
     "metadata": {},
     "output_type": "execute_result"
    }
   ],
   "source": [
    "df.isnull().sum()"
   ],
   "metadata": {
    "collapsed": false
   }
  },
  {
   "cell_type": "code",
   "execution_count": 30,
   "outputs": [],
   "source": [
    "df['home_ownership'] = df['home_ownership'].replace(['NONE', 'ANY'], 'OTHER')"
   ],
   "metadata": {
    "collapsed": false
   }
  },
  {
   "cell_type": "code",
   "execution_count": 31,
   "outputs": [
    {
     "data": {
      "text/plain": "(156330.0, -20550.0)"
     },
     "execution_count": 31,
     "metadata": {},
     "output_type": "execute_result"
    }
   ],
   "source": [
    "def IQR_bound(name_column):\n",
    "    IQR = df[name_column].quantile(0.75) - df[name_column].quantile(0.25)\n",
    "    upper_bridge = df[name_column].quantile(0.75) + (IQR * 1.5)\n",
    "    lower_bridge = df[name_column].quantile(0.25) - (IQR * 1.5)\n",
    "\n",
    "    return upper_bridge, lower_bridge\n",
    "\n",
    "IQR_bound('annual_inc')"
   ],
   "metadata": {
    "collapsed": false
   }
  },
  {
   "cell_type": "code",
   "execution_count": 32,
   "outputs": [
    {
     "data": {
      "text/plain": "<AxesSubplot:xlabel='annual_inc'>"
     },
     "execution_count": 32,
     "metadata": {},
     "output_type": "execute_result"
    },
    {
     "data": {
      "text/plain": "<Figure size 432x288 with 1 Axes>",
      "image/png": "[encoded data removed]"
     },
     "metadata": {},
     "output_type": "display_data"
    }
   ],
   "source": [
    "inc_upper_bound, inc_lower_bound = IQR_bound('annual_inc')\n",
    "sns.boxplot(df[(df['annual_inc'] > inc_lower_bound) & (df['annual_inc'] < inc_upper_bound)]['annual_inc'])"
   ],
   "metadata": {
    "collapsed": false
   }
  },
  {
   "cell_type": "code",
   "execution_count": 33,
   "outputs": [
    {
     "data": {
      "text/plain": "<AxesSubplot:xlabel='dti'>"
     },
     "execution_count": 33,
     "metadata": {},
     "output_type": "execute_result"
    },
    {
     "data": {
      "text/plain": "<Figure size 432x288 with 1 Axes>",
      "image/png": "[encoded data removed]"
     },
     "metadata": {},
     "output_type": "display_data"
    }
   ],
   "source": [
    "dti_upper_bound, dti_lower_bound = IQR_bound('dti')\n",
    "sns.boxplot(df[(df['dti'] > dti_lower_bound) & (df['dti'] < dti_upper_bound)]['dti'])"
   ],
   "metadata": {
    "collapsed": false
   }
  },
  {
   "cell_type": "code",
   "execution_count": 34,
   "outputs": [
    {
     "data": {
      "text/plain": "0.9959176695334161"
     },
     "execution_count": 34,
     "metadata": {},
     "output_type": "execute_result"
    }
   ],
   "source": [
    "remove_outliner_df = df[(df['annual_inc'] > inc_lower_bound) & (df['annual_inc'] < inc_upper_bound)]\n",
    "remove_outliner_df = df[(df['dti'] > dti_lower_bound) & (df['dti'] < dti_upper_bound)]\n",
    "remove_outliner_df.shape[0] / df.shape[0]"
   ],
   "metadata": {
    "collapsed": false
   }
  },
  {
   "cell_type": "code",
   "execution_count": 35,
   "outputs": [],
   "source": [
    "# Only lost 0.5% rows of original dataset"
   ],
   "metadata": {
    "collapsed": false
   }
  },
  {
   "cell_type": "code",
   "execution_count": 36,
   "outputs": [],
   "source": [
    "def emp_role(x):\n",
    "    if x in ['< 1 year']:\n",
    "        return 'Intern'\n",
    "    elif x in ['1 year', '2 years']:\n",
    "        return 'Junior'\n",
    "    elif x in ['3 years', '4 years', '5 years']:\n",
    "        return 'Middle Senior'\n",
    "    elif x in ['6 years', '7 years', '8 years', '9 years']:\n",
    "        return 'Senior'\n",
    "    else:\n",
    "        return 'Expert'\n",
    "\n",
    "remove_outliner_df['emp_role'] = remove_outliner_df['emp_length'].apply(emp_role)"
   ],
   "metadata": {
    "collapsed": false
   }
  },
  {
   "cell_type": "code",
   "execution_count": 37,
   "outputs": [],
   "source": [
    "# Encode"
   ],
   "metadata": {
    "collapsed": false
   }
  },
  {
   "cell_type": "code",
   "execution_count": 38,
   "outputs": [],
   "source": [
    "remove_outliner_df['y'] = remove_outliner_df['loan_status'].apply(lambda x:1 if x == 'Charged Off' else 0)"
   ],
   "metadata": {
    "collapsed": false
   }
  },
  {
   "cell_type": "code",
   "execution_count": 39,
   "outputs": [],
   "source": [
    "remove_outliner_df.drop(['id', 'loan_status', 'installment','grade', 'issue_d', 'title', 'emp_length', 'emp_title','initial_list_status', 'zip_code', 'pub_rec_bankruptcies', 'fico_range_low', 'application_type','earliest_cr_line', 'open_acc'], axis= 1, inplace = True)"
   ],
   "metadata": {
    "collapsed": false
   }
  },
  {
   "cell_type": "code",
   "execution_count": 40,
   "outputs": [
    {
     "data": {
      "text/plain": "         loan_amnt        term  int_rate sub_grade             purpose  \\\n0           3600.0   36 months     13.99        C4  debt_consolidation   \n1          24700.0   36 months     11.99        C1      small_business   \n2          20000.0   60 months     10.78        B4    home_improvement   \n3          10400.0   60 months     22.45        F1      major_purchase   \n4          11950.0   36 months     13.44        C3  debt_consolidation   \n...            ...         ...       ...       ...                 ...   \n1345305    18000.0   60 months      9.49        B2    home_improvement   \n1345306    29400.0   60 months     13.99        C3  debt_consolidation   \n1345307    32000.0   60 months     14.49        C4    home_improvement   \n1345308    16000.0   60 months     12.79        C1             medical   \n1345309    24000.0   60 months     14.49        C4  debt_consolidation   \n\n        addr_state home_ownership  annual_inc verification_status    dti  \\\n0               PA       MORTGAGE     55000.0        Not Verified   5.91   \n1               SD       MORTGAGE     65000.0        Not Verified  16.06   \n2               IL       MORTGAGE     63000.0        Not Verified  10.78   \n3               PA       MORTGAGE    104433.0     Source Verified  25.38   \n4               GA           RENT     34000.0     Source Verified  10.20   \n...            ...            ...         ...                 ...    ...   \n1345305         TX            OWN    130000.0        Not Verified  20.60   \n1345306         CA       MORTGAGE    180792.0        Not Verified  22.03   \n1345307         AZ       MORTGAGE    157000.0     Source Verified  10.34   \n1345308         NC           RENT    150000.0        Not Verified  12.25   \n1345309         FL           RENT    110000.0        Not Verified  18.30   \n\n         pub_rec  revol_bal  revol_util  total_acc  mort_acc  fico_range_high  \\\n0            0.0     2765.0        29.7       13.0       1.0            679.0   \n1            0.0    21470.0        19.2       38.0       4.0            719.0   \n2            0.0     7869.0        56.2       18.0       5.0            699.0   \n3            0.0    21929.0        64.5       35.0       6.0            699.0   \n4            0.0     8822.0        68.4        6.0       0.0            694.0   \n...          ...        ...         ...        ...       ...              ...   \n1345305      0.0    23833.0        34.0       39.0       3.0            739.0   \n1345306      0.0    77480.0        85.2       32.0       3.0            709.0   \n1345307      0.0   111598.0        27.4       18.0       3.0            739.0   \n1345308      4.0     7700.0        55.0       28.0       0.0            669.0   \n1345309      1.0    17641.0        68.1       31.0       2.0            664.0   \n\n              emp_role  y  \n0               Expert  0  \n1               Expert  0  \n2               Expert  0  \n3        Middle Senior  0  \n4        Middle Senior  0  \n...                ... ..  \n1345305  Middle Senior  0  \n1345306         Senior  0  \n1345307  Middle Senior  1  \n1345308         Expert  0  \n1345309         Senior  1  \n\n[1339818 rows x 18 columns]",
      "text/html": "<div>\n<style scoped>\n    .dataframe tbody tr th:only-of-type {\n        vertical-align: middle;\n    }\n\n    .dataframe tbody tr th {\n        vertical-align: top;\n    }\n\n    .dataframe thead th {\n        text-align: right;\n    }\n</style>\n<table border=\"1\" class=\"dataframe\">\n  <thead>\n    <tr style=\"text-align: right;\">\n      <th></th>\n      <th>loan_amnt</th>\n      <th>term</th>\n      <th>int_rate</th>\n      <th>sub_grade</th>\n      <th>purpose</th>\n      <th>addr_state</th>\n      <th>home_ownership</th>\n      <th>annual_inc</th>\n      <th>verification_status</th>\n      <th>dti</th>\n      <th>pub_rec</th>\n      <th>revol_bal</th>\n      <th>revol_util</th>\n      <th>total_acc</th>\n      <th>mort_acc</th>\n      <th>fico_range_high</th>\n      <th>emp_role</th>\n      <th>y</th>\n    </tr>\n  </thead>\n  <tbody>\n    <tr>\n      <th>0</th>\n      <td>3600.0</td>\n      <td>36 months</td>\n      <td>13.99</td>\n      <td>C4</td>\n      <td>debt_consolidation</td>\n      <td>PA</td>\n      <td>MORTGAGE</td>\n      <td>55000.0</td>\n      <td>Not Verified</td>\n      <td>5.91</td>\n      <td>0.0</td>\n      <td>2765.0</td>\n      <td>29.7</td>\n      <td>13.0</td>\n      <td>1.0</td>\n      <td>679.0</td>\n      <td>Expert</td>\n      <td>0</td>\n    </tr>\n    <tr>\n      <th>1</th>\n      <td>24700.0</td>\n      <td>36 months</td>\n      <td>11.99</td>\n      <td>C1</td>\n      <td>small_business</td>\n      <td>SD</td>\n      <td>MORTGAGE</td>\n      <td>65000.0</td>\n      <td>Not Verified</td>\n      <td>16.06</td>\n      <td>0.0</td>\n      <td>21470.0</td>\n      <td>19.2</td>\n      <td>38.0</td>\n      <td>4.0</td>\n      <td>719.0</td>\n      <td>Expert</td>\n      <td>0</td>\n    </tr>\n    <tr>\n      <th>2</th>\n      <td>20000.0</td>\n      <td>60 months</td>\n      <td>10.78</td>\n      <td>B4</td>\n      <td>home_improvement</td>\n      <td>IL</td>\n      <td>MORTGAGE</td>\n      <td>63000.0</td>\n      <td>Not Verified</td>\n      <td>10.78</td>\n      <td>0.0</td>\n      <td>7869.0</td>\n      <td>56.2</td>\n      <td>18.0</td>\n      <td>5.0</td>\n      <td>699.0</td>\n      <td>Expert</td>\n      <td>0</td>\n    </tr>\n    <tr>\n      <th>3</th>\n      <td>10400.0</td>\n      <td>60 months</td>\n      <td>22.45</td>\n      <td>F1</td>\n      <td>major_purchase</td>\n      <td>PA</td>\n      <td>MORTGAGE</td>\n      <td>104433.0</td>\n      <td>Source Verified</td>\n      <td>25.38</td>\n      <td>0.0</td>\n      <td>21929.0</td>\n      <td>64.5</td>\n      <td>35.0</td>\n      <td>6.0</td>\n      <td>699.0</td>\n      <td>Middle Senior</td>\n      <td>0</td>\n    </tr>\n    <tr>\n      <th>4</th>\n      <td>11950.0</td>\n      <td>36 months</td>\n      <td>13.44</td>\n      <td>C3</td>\n      <td>debt_consolidation</td>\n      <td>GA</td>\n      <td>RENT</td>\n      <td>34000.0</td>\n      <td>Source Verified</td>\n      <td>10.20</td>\n      <td>0.0</td>\n      <td>8822.0</td>\n      <td>68.4</td>\n      <td>6.0</td>\n      <td>0.0</td>\n      <td>694.0</td>\n      <td>Middle Senior</td>\n      <td>0</td>\n    </tr>\n    <tr>\n      <th>...</th>\n      <td>...</td>\n      <td>...</td>\n      <td>...</td>\n      <td>...</td>\n      <td>...</td>\n      <td>...</td>\n      <td>...</td>\n      <td>...</td>\n      <td>...</td>\n      <td>...</td>\n      <td>...</td>\n      <td>...</td>\n      <td>...</td>\n      <td>...</td>\n      <td>...</td>\n      <td>...</td>\n      <td>...</td>\n      <td>...</td>\n    </tr>\n    <tr>\n      <th>1345305</th>\n      <td>18000.0</td>\n      <td>60 months</td>\n      <td>9.49</td>\n      <td>B2</td>\n      <td>home_improvement</td>\n      <td>TX</td>\n      <td>OWN</td>\n      <td>130000.0</td>\n      <td>Not Verified</td>\n      <td>20.60</td>\n      <td>0.0</td>\n      <td>23833.0</td>\n      <td>34.0</td>\n      <td>39.0</td>\n      <td>3.0</td>\n      <td>739.0</td>\n      <td>Middle Senior</td>\n      <td>0</td>\n    </tr>\n    <tr>\n      <th>1345306</th>\n      <td>29400.0</td>\n      <td>60 months</td>\n      <td>13.99</td>\n      <td>C3</td>\n      <td>debt_consolidation</td>\n      <td>CA</td>\n      <td>MORTGAGE</td>\n      <td>180792.0</td>\n      <td>Not Verified</td>\n      <td>22.03</td>\n      <td>0.0</td>\n      <td>77480.0</td>\n      <td>85.2</td>\n      <td>32.0</td>\n      <td>3.0</td>\n      <td>709.0</td>\n      <td>Senior</td>\n      <td>0</td>\n    </tr>\n    <tr>\n      <th>1345307</th>\n      <td>32000.0</td>\n      <td>60 months</td>\n      <td>14.49</td>\n      <td>C4</td>\n      <td>home_improvement</td>\n      <td>AZ</td>\n      <td>MORTGAGE</td>\n      <td>157000.0</td>\n      <td>Source Verified</td>\n      <td>10.34</td>\n      <td>0.0</td>\n      <td>111598.0</td>\n      <td>27.4</td>\n      <td>18.0</td>\n      <td>3.0</td>\n      <td>739.0</td>\n      <td>Middle Senior</td>\n      <td>1</td>\n    </tr>\n    <tr>\n      <th>1345308</th>\n      <td>16000.0</td>\n      <td>60 months</td>\n      <td>12.79</td>\n      <td>C1</td>\n      <td>medical</td>\n      <td>NC</td>\n      <td>RENT</td>\n      <td>150000.0</td>\n      <td>Not Verified</td>\n      <td>12.25</td>\n      <td>4.0</td>\n      <td>7700.0</td>\n      <td>55.0</td>\n      <td>28.0</td>\n      <td>0.0</td>\n      <td>669.0</td>\n      <td>Expert</td>\n      <td>0</td>\n    </tr>\n    <tr>\n      <th>1345309</th>\n      <td>24000.0</td>\n      <td>60 months</td>\n      <td>14.49</td>\n      <td>C4</td>\n      <td>debt_consolidation</td>\n      <td>FL</td>\n      <td>RENT</td>\n      <td>110000.0</td>\n      <td>Not Verified</td>\n      <td>18.30</td>\n      <td>1.0</td>\n      <td>17641.0</td>\n      <td>68.1</td>\n      <td>31.0</td>\n      <td>2.0</td>\n      <td>664.0</td>\n      <td>Senior</td>\n      <td>1</td>\n    </tr>\n  </tbody>\n</table>\n<p>1339818 rows × 18 columns</p>\n</div>"
     },
     "execution_count": 40,
     "metadata": {},
     "output_type": "execute_result"
    }
   ],
   "source": [
    "remove_outliner_df"
   ],
   "metadata": {
    "collapsed": false
   }
  },
  {
   "cell_type": "code",
   "execution_count": 41,
   "outputs": [],
   "source": [
    "from sklearn.preprocessing import OrdinalEncoder\n",
    "from sklearn.preprocessing import OneHotEncoder\n",
    "from sklearn.preprocessing import MinMaxScaler\n",
    "from sklearn.preprocessing import LabelEncoder\n",
    "from sklearn.compose import ColumnTransformer\n"
   ],
   "metadata": {
    "collapsed": false
   }
  },
  {
   "cell_type": "code",
   "execution_count": 42,
   "outputs": [],
   "source": [
    "one_hot_encoding_columns = ['purpose', 'addr_state', 'home_ownership', 'verification_status', 'sub_grade']\n",
    "ordinal_encoding_columns = ['term',  'emp_role']\n",
    "min_max_scalers_columns = ['loan_amnt', 'int_rate', 'annual_inc', 'dti', 'revol_bal', 'fico_range_high']"
   ],
   "metadata": {
    "collapsed": false
   }
  },
  {
   "cell_type": "code",
   "execution_count": 43,
   "outputs": [
    {
     "data": {
      "text/plain": "         loan_amnt        term  int_rate  annual_inc    dti  pub_rec  \\\n0           3600.0   36 months     13.99     55000.0   5.91      0.0   \n1          24700.0   36 months     11.99     65000.0  16.06      0.0   \n2          20000.0   60 months     10.78     63000.0  10.78      0.0   \n3          10400.0   60 months     22.45    104433.0  25.38      0.0   \n4          11950.0   36 months     13.44     34000.0  10.20      0.0   \n...            ...         ...       ...         ...    ...      ...   \n1345305    18000.0   60 months      9.49    130000.0  20.60      0.0   \n1345306    29400.0   60 months     13.99    180792.0  22.03      0.0   \n1345307    32000.0   60 months     14.49    157000.0  10.34      0.0   \n1345308    16000.0   60 months     12.79    150000.0  12.25      4.0   \n1345309    24000.0   60 months     14.49    110000.0  18.30      1.0   \n\n         revol_bal  revol_util  total_acc  mort_acc  ...  sub_grade_F1  \\\n0           2765.0        29.7       13.0       1.0  ...             0   \n1          21470.0        19.2       38.0       4.0  ...             0   \n2           7869.0        56.2       18.0       5.0  ...             0   \n3          21929.0        64.5       35.0       6.0  ...             1   \n4           8822.0        68.4        6.0       0.0  ...             0   \n...            ...         ...        ...       ...  ...           ...   \n1345305    23833.0        34.0       39.0       3.0  ...             0   \n1345306    77480.0        85.2       32.0       3.0  ...             0   \n1345307   111598.0        27.4       18.0       3.0  ...             0   \n1345308     7700.0        55.0       28.0       0.0  ...             0   \n1345309    17641.0        68.1       31.0       2.0  ...             0   \n\n        sub_grade_F2  sub_grade_F3  sub_grade_F4  sub_grade_F5  sub_grade_G1  \\\n0                  0             0             0             0             0   \n1                  0             0             0             0             0   \n2                  0             0             0             0             0   \n3                  0             0             0             0             0   \n4                  0             0             0             0             0   \n...              ...           ...           ...           ...           ...   \n1345305            0             0             0             0             0   \n1345306            0             0             0             0             0   \n1345307            0             0             0             0             0   \n1345308            0             0             0             0             0   \n1345309            0             0             0             0             0   \n\n         sub_grade_G2  sub_grade_G3  sub_grade_G4  sub_grade_G5  \n0                   0             0             0             0  \n1                   0             0             0             0  \n2                   0             0             0             0  \n3                   0             0             0             0  \n4                   0             0             0             0  \n...               ...           ...           ...           ...  \n1345305             0             0             0             0  \n1345306             0             0             0             0  \n1345307             0             0             0             0  \n1345308             0             0             0             0  \n1345309             0             0             0             0  \n\n[1339818 rows x 115 columns]",
      "text/html": "<div>\n<style scoped>\n    .dataframe tbody tr th:only-of-type {\n        vertical-align: middle;\n    }\n\n    .dataframe tbody tr th {\n        vertical-align: top;\n    }\n\n    .dataframe thead th {\n        text-align: right;\n    }\n</style>\n<table border=\"1\" class=\"dataframe\">\n  <thead>\n    <tr style=\"text-align: right;\">\n      <th></th>\n      <th>loan_amnt</th>\n      <th>term</th>\n      <th>int_rate</th>\n      <th>annual_inc</th>\n      <th>dti</th>\n      <th>pub_rec</th>\n      <th>revol_bal</th>\n      <th>revol_util</th>\n      <th>total_acc</th>\n      <th>mort_acc</th>\n      <th>...</th>\n      <th>sub_grade_F1</th>\n      <th>sub_grade_F2</th>\n      <th>sub_grade_F3</th>\n      <th>sub_grade_F4</th>\n      <th>sub_grade_F5</th>\n      <th>sub_grade_G1</th>\n      <th>sub_grade_G2</th>\n      <th>sub_grade_G3</th>\n      <th>sub_grade_G4</th>\n      <th>sub_grade_G5</th>\n    </tr>\n  </thead>\n  <tbody>\n    <tr>\n      <th>0</th>\n      <td>3600.0</td>\n      <td>36 months</td>\n      <td>13.99</td>\n      <td>55000.0</td>\n      <td>5.91</td>\n      <td>0.0</td>\n      <td>2765.0</td>\n      <td>29.7</td>\n      <td>13.0</td>\n      <td>1.0</td>\n      <td>...</td>\n      <td>0</td>\n      <td>0</td>\n      <td>0</td>\n      <td>0</td>\n      <td>0</td>\n      <td>0</td>\n      <td>0</td>\n      <td>0</td>\n      <td>0</td>\n      <td>0</td>\n    </tr>\n    <tr>\n      <th>1</th>\n      <td>24700.0</td>\n      <td>36 months</td>\n      <td>11.99</td>\n      <td>65000.0</td>\n      <td>16.06</td>\n      <td>0.0</td>\n      <td>21470.0</td>\n      <td>19.2</td>\n      <td>38.0</td>\n      <td>4.0</td>\n      <td>...</td>\n      <td>0</td>\n      <td>0</td>\n      <td>0</td>\n      <td>0</td>\n      <td>0</td>\n      <td>0</td>\n      <td>0</td>\n      <td>0</td>\n      <td>0</td>\n      <td>0</td>\n    </tr>\n    <tr>\n      <th>2</th>\n      <td>20000.0</td>\n      <td>60 months</td>\n      <td>10.78</td>\n      <td>63000.0</td>\n      <td>10.78</td>\n      <td>0.0</td>\n      <td>7869.0</td>\n      <td>56.2</td>\n      <td>18.0</td>\n      <td>5.0</td>\n      <td>...</td>\n      <td>0</td>\n      <td>0</td>\n      <td>0</td>\n      <td>0</td>\n      <td>0</td>\n      <td>0</td>\n      <td>0</td>\n      <td>0</td>\n      <td>0</td>\n      <td>0</td>\n    </tr>\n    <tr>\n      <th>3</th>\n      <td>10400.0</td>\n      <td>60 months</td>\n      <td>22.45</td>\n      <td>104433.0</td>\n      <td>25.38</td>\n      <td>0.0</td>\n      <td>21929.0</td>\n      <td>64.5</td>\n      <td>35.0</td>\n      <td>6.0</td>\n      <td>...</td>\n      <td>1</td>\n      <td>0</td>\n      <td>0</td>\n      <td>0</td>\n      <td>0</td>\n      <td>0</td>\n      <td>0</td>\n      <td>0</td>\n      <td>0</td>\n      <td>0</td>\n    </tr>\n    <tr>\n      <th>4</th>\n      <td>11950.0</td>\n      <td>36 months</td>\n      <td>13.44</td>\n      <td>34000.0</td>\n      <td>10.20</td>\n      <td>0.0</td>\n      <td>8822.0</td>\n      <td>68.4</td>\n      <td>6.0</td>\n      <td>0.0</td>\n      <td>...</td>\n      <td>0</td>\n      <td>0</td>\n      <td>0</td>\n      <td>0</td>\n      <td>0</td>\n      <td>0</td>\n      <td>0</td>\n      <td>0</td>\n      <td>0</td>\n      <td>0</td>\n    </tr>\n    <tr>\n      <th>...</th>\n      <td>...</td>\n      <td>...</td>\n      <td>...</td>\n      <td>...</td>\n      <td>...</td>\n      <td>...</td>\n      <td>...</td>\n      <td>...</td>\n      <td>...</td>\n      <td>...</td>\n      <td>...</td>\n      <td>...</td>\n      <td>...</td>\n      <td>...</td>\n      <td>...</td>\n      <td>...</td>\n      <td>...</td>\n      <td>...</td>\n      <td>...</td>\n      <td>...</td>\n      <td>...</td>\n    </tr>\n    <tr>\n      <th>1345305</th>\n      <td>18000.0</td>\n      <td>60 months</td>\n      <td>9.49</td>\n      <td>130000.0</td>\n      <td>20.60</td>\n      <td>0.0</td>\n      <td>23833.0</td>\n      <td>34.0</td>\n      <td>39.0</td>\n      <td>3.0</td>\n      <td>...</td>\n      <td>0</td>\n      <td>0</td>\n      <td>0</td>\n      <td>0</td>\n      <td>0</td>\n      <td>0</td>\n      <td>0</td>\n      <td>0</td>\n      <td>0</td>\n      <td>0</td>\n    </tr>\n    <tr>\n      <th>1345306</th>\n      <td>29400.0</td>\n      <td>60 months</td>\n      <td>13.99</td>\n      <td>180792.0</td>\n      <td>22.03</td>\n      <td>0.0</td>\n      <td>77480.0</td>\n      <td>85.2</td>\n      <td>32.0</td>\n      <td>3.0</td>\n      <td>...</td>\n      <td>0</td>\n      <td>0</td>\n      <td>0</td>\n      <td>0</td>\n      <td>0</td>\n      <td>0</td>\n      <td>0</td>\n      <td>0</td>\n      <td>0</td>\n      <td>0</td>\n    </tr>\n    <tr>\n      <th>1345307</th>\n      <td>32000.0</td>\n      <td>60 months</td>\n      <td>14.49</td>\n      <td>157000.0</td>\n      <td>10.34</td>\n      <td>0.0</td>\n      <td>111598.0</td>\n      <td>27.4</td>\n      <td>18.0</td>\n      <td>3.0</td>\n      <td>...</td>\n      <td>0</td>\n      <td>0</td>\n      <td>0</td>\n      <td>0</td>\n      <td>0</td>\n      <td>0</td>\n      <td>0</td>\n      <td>0</td>\n      <td>0</td>\n      <td>0</td>\n    </tr>\n    <tr>\n      <th>1345308</th>\n      <td>16000.0</td>\n      <td>60 months</td>\n      <td>12.79</td>\n      <td>150000.0</td>\n      <td>12.25</td>\n      <td>4.0</td>\n      <td>7700.0</td>\n      <td>55.0</td>\n      <td>28.0</td>\n      <td>0.0</td>\n      <td>...</td>\n      <td>0</td>\n      <td>0</td>\n      <td>0</td>\n      <td>0</td>\n      <td>0</td>\n      <td>0</td>\n      <td>0</td>\n      <td>0</td>\n      <td>0</td>\n      <td>0</td>\n    </tr>\n    <tr>\n      <th>1345309</th>\n      <td>24000.0</td>\n      <td>60 months</td>\n      <td>14.49</td>\n      <td>110000.0</td>\n      <td>18.30</td>\n      <td>1.0</td>\n      <td>17641.0</td>\n      <td>68.1</td>\n      <td>31.0</td>\n      <td>2.0</td>\n      <td>...</td>\n      <td>0</td>\n      <td>0</td>\n      <td>0</td>\n      <td>0</td>\n      <td>0</td>\n      <td>0</td>\n      <td>0</td>\n      <td>0</td>\n      <td>0</td>\n      <td>0</td>\n    </tr>\n  </tbody>\n</table>\n<p>1339818 rows × 115 columns</p>\n</div>"
     },
     "execution_count": 43,
     "metadata": {},
     "output_type": "execute_result"
    }
   ],
   "source": [
    "df_encode = pd.get_dummies(remove_outliner_df, columns=one_hot_encoding_columns, prefix=one_hot_encoding_columns, prefix_sep= '_', drop_first=True)\n",
    "df_encode"
   ],
   "metadata": {
    "collapsed": false
   }
  },
  {
   "cell_type": "code",
   "execution_count": 44,
   "outputs": [],
   "source": [
    "for col in min_max_scalers_columns:\n",
    "    df_encode[col] = MinMaxScaler().fit_transform(remove_outliner_df[[col]])"
   ],
   "metadata": {
    "collapsed": false
   }
  },
  {
   "cell_type": "code",
   "execution_count": 45,
   "outputs": [],
   "source": [
    "df_encode['term'] = OrdinalEncoder().fit_transform(remove_outliner_df[['term']])"
   ],
   "metadata": {
    "collapsed": false
   }
  },
  {
   "cell_type": "code",
   "execution_count": 46,
   "outputs": [],
   "source": [
    "df_encode['emp_role'] = OrdinalEncoder(categories= [['Intern','Junior','Middle Senior','Senior','Expert']]).fit_transform(remove_outliner_df[['emp_role']])"
   ],
   "metadata": {
    "collapsed": false
   }
  },
  {
   "cell_type": "code",
   "execution_count": 47,
   "outputs": [
    {
     "data": {
      "text/plain": "         loan_amnt  term  int_rate  annual_inc       dti  pub_rec  revol_bal  \\\n0         0.078481   0.0  0.338138    0.005000  0.159217      0.0   0.000952   \n1         0.612658   0.0  0.260226    0.005910  0.393088      0.0   0.007391   \n2         0.493671   1.0  0.213089    0.005728  0.271429      0.0   0.002709   \n3         0.250633   1.0  0.667705    0.009495  0.607834      0.0   0.007549   \n4         0.289873   0.0  0.316712    0.003091  0.258065      0.0   0.003037   \n...            ...   ...       ...         ...       ...      ...        ...   \n1345305   0.443038   1.0  0.162836    0.011819  0.497696      0.0   0.008205   \n1345306   0.731646   1.0  0.338138    0.016437  0.530645      0.0   0.026673   \n1345307   0.797468   1.0  0.357616    0.014274  0.261290      0.0   0.038418   \n1345308   0.392405   1.0  0.291391    0.013637  0.305300      4.0   0.002651   \n1345309   0.594937   1.0  0.357616    0.010001  0.444700      1.0   0.006073   \n\n         revol_util  total_acc  mort_acc  ...  sub_grade_F1  sub_grade_F2  \\\n0              29.7       13.0       1.0  ...             0             0   \n1              19.2       38.0       4.0  ...             0             0   \n2              56.2       18.0       5.0  ...             0             0   \n3              64.5       35.0       6.0  ...             1             0   \n4              68.4        6.0       0.0  ...             0             0   \n...             ...        ...       ...  ...           ...           ...   \n1345305        34.0       39.0       3.0  ...             0             0   \n1345306        85.2       32.0       3.0  ...             0             0   \n1345307        27.4       18.0       3.0  ...             0             0   \n1345308        55.0       28.0       0.0  ...             0             0   \n1345309        68.1       31.0       2.0  ...             0             0   \n\n         sub_grade_F3  sub_grade_F4  sub_grade_F5  sub_grade_G1  sub_grade_G2  \\\n0                   0             0             0             0             0   \n1                   0             0             0             0             0   \n2                   0             0             0             0             0   \n3                   0             0             0             0             0   \n4                   0             0             0             0             0   \n...               ...           ...           ...           ...           ...   \n1345305             0             0             0             0             0   \n1345306             0             0             0             0             0   \n1345307             0             0             0             0             0   \n1345308             0             0             0             0             0   \n1345309             0             0             0             0             0   \n\n         sub_grade_G3  sub_grade_G4  sub_grade_G5  \n0                   0             0             0  \n1                   0             0             0  \n2                   0             0             0  \n3                   0             0             0  \n4                   0             0             0  \n...               ...           ...           ...  \n1345305             0             0             0  \n1345306             0             0             0  \n1345307             0             0             0  \n1345308             0             0             0  \n1345309             0             0             0  \n\n[1339818 rows x 115 columns]",
      "text/html": "<div>\n<style scoped>\n    .dataframe tbody tr th:only-of-type {\n        vertical-align: middle;\n    }\n\n    .dataframe tbody tr th {\n        vertical-align: top;\n    }\n\n    .dataframe thead th {\n        text-align: right;\n    }\n</style>\n<table border=\"1\" class=\"dataframe\">\n  <thead>\n    <tr style=\"text-align: right;\">\n      <th></th>\n      <th>loan_amnt</th>\n      <th>term</th>\n      <th>int_rate</th>\n      <th>annual_inc</th>\n      <th>dti</th>\n      <th>pub_rec</th>\n      <th>revol_bal</th>\n      <th>revol_util</th>\n      <th>total_acc</th>\n      <th>mort_acc</th>\n      <th>...</th>\n      <th>sub_grade_F1</th>\n      <th>sub_grade_F2</th>\n      <th>sub_grade_F3</th>\n      <th>sub_grade_F4</th>\n      <th>sub_grade_F5</th>\n      <th>sub_grade_G1</th>\n      <th>sub_grade_G2</th>\n      <th>sub_grade_G3</th>\n      <th>sub_grade_G4</th>\n      <th>sub_grade_G5</th>\n    </tr>\n  </thead>\n  <tbody>\n    <tr>\n      <th>0</th>\n      <td>0.078481</td>\n      <td>0.0</td>\n      <td>0.338138</td>\n      <td>0.005000</td>\n      <td>0.159217</td>\n      <td>0.0</td>\n      <td>0.000952</td>\n      <td>29.7</td>\n      <td>13.0</td>\n      <td>1.0</td>\n      <td>...</td>\n      <td>0</td>\n      <td>0</td>\n      <td>0</td>\n      <td>0</td>\n      <td>0</td>\n      <td>0</td>\n      <td>0</td>\n      <td>0</td>\n      <td>0</td>\n      <td>0</td>\n    </tr>\n    <tr>\n      <th>1</th>\n      <td>0.612658</td>\n      <td>0.0</td>\n      <td>0.260226</td>\n      <td>0.005910</td>\n      <td>0.393088</td>\n      <td>0.0</td>\n      <td>0.007391</td>\n      <td>19.2</td>\n      <td>38.0</td>\n      <td>4.0</td>\n      <td>...</td>\n      <td>0</td>\n      <td>0</td>\n      <td>0</td>\n      <td>0</td>\n      <td>0</td>\n      <td>0</td>\n      <td>0</td>\n      <td>0</td>\n      <td>0</td>\n      <td>0</td>\n    </tr>\n    <tr>\n      <th>2</th>\n      <td>0.493671</td>\n      <td>1.0</td>\n      <td>0.213089</td>\n      <td>0.005728</td>\n      <td>0.271429</td>\n      <td>0.0</td>\n      <td>0.002709</td>\n      <td>56.2</td>\n      <td>18.0</td>\n      <td>5.0</td>\n      <td>...</td>\n      <td>0</td>\n      <td>0</td>\n      <td>0</td>\n      <td>0</td>\n      <td>0</td>\n      <td>0</td>\n      <td>0</td>\n      <td>0</td>\n      <td>0</td>\n      <td>0</td>\n    </tr>\n    <tr>\n      <th>3</th>\n      <td>0.250633</td>\n      <td>1.0</td>\n      <td>0.667705</td>\n      <td>0.009495</td>\n      <td>0.607834</td>\n      <td>0.0</td>\n      <td>0.007549</td>\n      <td>64.5</td>\n      <td>35.0</td>\n      <td>6.0</td>\n      <td>...</td>\n      <td>1</td>\n      <td>0</td>\n      <td>0</td>\n      <td>0</td>\n      <td>0</td>\n      <td>0</td>\n      <td>0</td>\n      <td>0</td>\n      <td>0</td>\n      <td>0</td>\n    </tr>\n    <tr>\n      <th>4</th>\n      <td>0.289873</td>\n      <td>0.0</td>\n      <td>0.316712</td>\n      <td>0.003091</td>\n      <td>0.258065</td>\n      <td>0.0</td>\n      <td>0.003037</td>\n      <td>68.4</td>\n      <td>6.0</td>\n      <td>0.0</td>\n      <td>...</td>\n      <td>0</td>\n      <td>0</td>\n      <td>0</td>\n      <td>0</td>\n      <td>0</td>\n      <td>0</td>\n      <td>0</td>\n      <td>0</td>\n      <td>0</td>\n      <td>0</td>\n    </tr>\n    <tr>\n      <th>...</th>\n      <td>...</td>\n      <td>...</td>\n      <td>...</td>\n      <td>...</td>\n      <td>...</td>\n      <td>...</td>\n      <td>...</td>\n      <td>...</td>\n      <td>...</td>\n      <td>...</td>\n      <td>...</td>\n      <td>...</td>\n      <td>...</td>\n      <td>...</td>\n      <td>...</td>\n      <td>...</td>\n      <td>...</td>\n      <td>...</td>\n      <td>...</td>\n      <td>...</td>\n      <td>...</td>\n    </tr>\n    <tr>\n      <th>1345305</th>\n      <td>0.443038</td>\n      <td>1.0</td>\n      <td>0.162836</td>\n      <td>0.011819</td>\n      <td>0.497696</td>\n      <td>0.0</td>\n      <td>0.008205</td>\n      <td>34.0</td>\n      <td>39.0</td>\n      <td>3.0</td>\n      <td>...</td>\n      <td>0</td>\n      <td>0</td>\n      <td>0</td>\n      <td>0</td>\n      <td>0</td>\n      <td>0</td>\n      <td>0</td>\n      <td>0</td>\n      <td>0</td>\n      <td>0</td>\n    </tr>\n    <tr>\n      <th>1345306</th>\n      <td>0.731646</td>\n      <td>1.0</td>\n      <td>0.338138</td>\n      <td>0.016437</td>\n      <td>0.530645</td>\n      <td>0.0</td>\n      <td>0.026673</td>\n      <td>85.2</td>\n      <td>32.0</td>\n      <td>3.0</td>\n      <td>...</td>\n      <td>0</td>\n      <td>0</td>\n      <td>0</td>\n      <td>0</td>\n      <td>0</td>\n      <td>0</td>\n      <td>0</td>\n      <td>0</td>\n      <td>0</td>\n      <td>0</td>\n    </tr>\n    <tr>\n      <th>1345307</th>\n      <td>0.797468</td>\n      <td>1.0</td>\n      <td>0.357616</td>\n      <td>0.014274</td>\n      <td>0.261290</td>\n      <td>0.0</td>\n      <td>0.038418</td>\n      <td>27.4</td>\n      <td>18.0</td>\n      <td>3.0</td>\n      <td>...</td>\n      <td>0</td>\n      <td>0</td>\n      <td>0</td>\n      <td>0</td>\n      <td>0</td>\n      <td>0</td>\n      <td>0</td>\n      <td>0</td>\n      <td>0</td>\n      <td>0</td>\n    </tr>\n    <tr>\n      <th>1345308</th>\n      <td>0.392405</td>\n      <td>1.0</td>\n      <td>0.291391</td>\n      <td>0.013637</td>\n      <td>0.305300</td>\n      <td>4.0</td>\n      <td>0.002651</td>\n      <td>55.0</td>\n      <td>28.0</td>\n      <td>0.0</td>\n      <td>...</td>\n      <td>0</td>\n      <td>0</td>\n      <td>0</td>\n      <td>0</td>\n      <td>0</td>\n      <td>0</td>\n      <td>0</td>\n      <td>0</td>\n      <td>0</td>\n      <td>0</td>\n    </tr>\n    <tr>\n      <th>1345309</th>\n      <td>0.594937</td>\n      <td>1.0</td>\n      <td>0.357616</td>\n      <td>0.010001</td>\n      <td>0.444700</td>\n      <td>1.0</td>\n      <td>0.006073</td>\n      <td>68.1</td>\n      <td>31.0</td>\n      <td>2.0</td>\n      <td>...</td>\n      <td>0</td>\n      <td>0</td>\n      <td>0</td>\n      <td>0</td>\n      <td>0</td>\n      <td>0</td>\n      <td>0</td>\n      <td>0</td>\n      <td>0</td>\n      <td>0</td>\n    </tr>\n  </tbody>\n</table>\n<p>1339818 rows × 115 columns</p>\n</div>"
     },
     "execution_count": 47,
     "metadata": {},
     "output_type": "execute_result"
    }
   ],
   "source": [
    "df_encode"
   ],
   "metadata": {
    "collapsed": false
   }
  },
  {
   "cell_type": "code",
   "execution_count": 49,
   "outputs": [],
   "source": [
    "df_encode.to_csv('train_test.csv',index= False)"
   ],
   "metadata": {
    "collapsed": false
   }
  }
 ],
 "metadata": {
  "kernelspec": {
   "display_name": "Python 3",
   "language": "python",
   "name": "python3"
  },
  "language_info": {
   "codemirror_mode": {
    "name": "ipython",
    "version": 2
   },
   "file_extension": ".py",
   "mimetype": "text/x-python",
   "name": "python",
   "nbconvert_exporter": "python",
   "pygments_lexer": "ipython2",
   "version": "2.7.6"
  }
 },
 "nbformat": 4,
 "nbformat_minor": 0
}
